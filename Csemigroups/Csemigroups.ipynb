{
 "cells": [
  {
   "cell_type": "code",
   "execution_count": 2,
   "id": "e8818fef-e443-4d5b-a052-0e07ac7bc598",
   "metadata": {},
   "outputs": [],
   "source": [
    "import Csemigroup\n",
    "from Csemigroup import *\n",
    "import numpy as np"
   ]
  },
  {
   "cell_type": "code",
   "execution_count": 3,
   "id": "cf0fd779-104e-44e4-93b6-511edfe0b97d",
   "metadata": {},
   "outputs": [
    {
     "name": "stdout",
     "output_type": "stream",
     "text": [
      "Funciona\n"
     ]
    }
   ],
   "source": [
    "foo2([[0.1,0.2],[4.2,4.5]])"
   ]
  },
  {
   "cell_type": "code",
   "execution_count": 4,
   "id": "dc84f0b1-9dbf-47ab-bdb4-81d0a4b59fc1",
   "metadata": {},
   "outputs": [],
   "source": [
    "class Csemigroup:\n",
    "    \n",
    "    def __init__(self,generators):\n",
    "        self.gaps = None\n",
    "        self.pf = None\n",
    "        self.irreducible = None\n",
    "        aux = self.__ComputeMinimalGenerators(generators)\n",
    "        self.generators = list([list(x) for x in aux])\n",
    "        self.generators.sort(key=lambda row: row[1:])\n",
    "        #self.rays = self.__ComputeRays(generators)\n",
    "        #self.rays = list([list(x) for x in self.rays])\n",
    "        #aux = np.array(self.rays)\n",
    "        \n",
    "        \n",
    "        #coneSg = Cone(cone=self.generators)\n",
    "        #self.hyperplanes = coneSg.SupportHyperplanes()\n",
    "        #if not self.__IsCSemigroup():\n",
    "            #raise Exception(\"The set do not form a C-Semigroup\")\n",
    "        print(self.generators)\n",
    "        #print(self.rays)\n",
    "        \n",
    "    def __ComputeMinimalGenerators(self,generators):\n",
    "        return computeMSG(generators)\n",
    "    def __ComputeRays(self,generators):\n",
    "        return rays(generators)"
   ]
  },
  {
   "cell_type": "code",
   "execution_count": 5,
   "id": "325b70f3-6786-472b-824e-b811e75075a4",
   "metadata": {},
   "outputs": [],
   "source": [
    "ejemplo1 = [[2, 0, 0], [4, 2, 4], [0, 1, 0], [3, 0, 0], [6, 3, 6], [3, 1, 1], [4, 1, 1],\n",
    "[3, 1, 2], [1, 1, 0], [3, 2, 3], [1, 2, 1]]"
   ]
  },
  {
   "cell_type": "code",
   "execution_count": 6,
   "id": "88db5f77-400e-4231-9c12-a0e5dde6d6b2",
   "metadata": {},
   "outputs": [
    {
     "name": "stdout",
     "output_type": "stream",
     "text": [
      "[[2, 0, 0], [3, 0, 0], [0, 1, 0], [1, 1, 0], [3, 1, 1], [4, 1, 1], [3, 1, 2], [1, 2, 1], [3, 2, 3], [4, 2, 4], [6, 3, 6]]\n"
     ]
    },
    {
     "data": {
      "text/plain": [
       "<__main__.Csemigroup at 0x7f39ec2666d0>"
      ]
     },
     "execution_count": 6,
     "metadata": {},
     "output_type": "execute_result"
    }
   ],
   "source": [
    "Csemigroup(ejemplo1)"
   ]
  }
 ],
 "metadata": {
  "kernelspec": {
   "display_name": "Python 3 (ipykernel)",
   "language": "python",
   "name": "python3"
  },
  "language_info": {
   "codemirror_mode": {
    "name": "ipython",
    "version": 3
   },
   "file_extension": ".py",
   "mimetype": "text/x-python",
   "name": "python",
   "nbconvert_exporter": "python",
   "pygments_lexer": "ipython3",
   "version": "3.8.10"
  }
 },
 "nbformat": 4,
 "nbformat_minor": 5
}
